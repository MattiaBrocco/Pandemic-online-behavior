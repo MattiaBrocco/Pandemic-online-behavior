{
 "cells": [
  {
   "cell_type": "code",
   "execution_count": 1,
   "id": "0b60e3a8",
   "metadata": {
    "ExecuteTime": {
     "end_time": "2023-01-07T23:29:26.904475Z",
     "start_time": "2023-01-07T23:29:24.513008Z"
    }
   },
   "outputs": [],
   "source": [
    "import os\n",
    "import datetime\n",
    "import numpy as np\n",
    "import pandas as pd\n",
    "import seaborn as sns\n",
    "import matplotlib.pyplot as plt\n",
    "\n",
    "pd.options.display.max_columns = 500"
   ]
  },
  {
   "cell_type": "code",
   "execution_count": 2,
   "id": "f2caa9a6",
   "metadata": {
    "ExecuteTime": {
     "end_time": "2023-01-07T23:29:26.920121Z",
     "start_time": "2023-01-07T23:29:26.907768Z"
    }
   },
   "outputs": [],
   "source": [
    "G20_and_EU = [\"Saudi Arabia\", \"Argentina\", \"Australia\", \"Brazil\", \"Canada\", \"China\", \"South Korea\",\n",
    "              \"Republic of Korea\", \"France\", \"Germany\", \"Japan\", \"India\", \"Indonesia\", \"Italy\",\n",
    "              \"Mexico\", \"United Kingdom\", \"The United Kingdom\", \"Russia\", \"Russian Federation\",\n",
    "              \"United States\", \"United States of America\", \"South Africa\", \"Turkey\", \"Türkiye\",\n",
    "              \"Austria\", \"Belgium\", \"Bulgaria\", \"Cyprus\", \"Croatia\", \"Denmark\", \"Estonia\", \"Finland\",\n",
    "              \"Greece\", \"Ireland\", \"Latvia\", \"Lithuania\", \"Luxembourg\", \"Malta\", \"Netherlands\",\n",
    "              \"Poland\", \"Portugal\", \"Czech Republic\", \"Czechia\", \"Romania\", \"Slovak Republic\",\n",
    "              \"Slovakia\", \"Slovenia\", \"Spain\", \"Sweden\", \"Hungary\"]"
   ]
  },
  {
   "cell_type": "markdown",
   "id": "9c98390b",
   "metadata": {},
   "source": [
    "### Time series"
   ]
  },
  {
   "cell_type": "code",
   "execution_count": 3,
   "id": "aa82199b",
   "metadata": {
    "ExecuteTime": {
     "end_time": "2023-01-07T23:29:26.950844Z",
     "start_time": "2023-01-07T23:29:26.923102Z"
    }
   },
   "outputs": [],
   "source": [
    "amzn = pd.read_csv(\"AMZN_weekly.csv\")[[\"Date\", \"Adj Close\"]]\n",
    "zoom = pd.read_csv(\"ZM_weekly.csv\")[[\"Date\", \"Adj Close\"]]\n",
    "\n",
    "zoom[\"Date\"] = pd.to_datetime(zoom[\"Date\"], format = \"%Y/%m/%d\")\n",
    "amzn[\"Date\"] = pd.to_datetime(amzn[\"Date\"], format = \"%Y/%m/%d\")\n",
    "\n",
    "start_date = amzn[\"Date\"].min() # from ZOOM\n",
    "end_date = amzn[\"Date\"].max()"
   ]
  },
  {
   "cell_type": "code",
   "execution_count": 4,
   "id": "85fe7613",
   "metadata": {
    "ExecuteTime": {
     "end_time": "2023-01-07T23:29:26.967067Z",
     "start_time": "2023-01-07T23:29:26.953913Z"
    }
   },
   "outputs": [],
   "source": [
    "def week_aggregator(data, date_col, target_col, aggfunc = \"sum\"):\n",
    "    out = []\n",
    "    indexes = []\n",
    "    date_list = amzn[\"Date\"].tolist()\n",
    "    \n",
    "    if aggfunc not in [\"sum\", \"mean\"]:\n",
    "        raise \"Only 'sum' and 'mean' supported for 'aggfunc'\"\n",
    "    \n",
    "    for n in range(len(date_list)):\n",
    "        \n",
    "        if n == 0:\n",
    "            d_0 = date_list[n] - datetime.timedelta(days = 7)\n",
    "            d_1 = date_list[n]\n",
    "        else:\n",
    "            d_0 = date_list[n-1]\n",
    "            d_1 = date_list[n]    \n",
    "        \n",
    "        if aggfunc == \"sum\":\n",
    "            aggregate = data.loc[(data[date_col] > d_0) &\n",
    "                                 (data[date_col] <= d_1), target_col].sum()\n",
    "        else: # mean\n",
    "            aggregate = data.loc[(data[date_col] > d_0) &\n",
    "                                 (data[date_col] <= d_1), target_col].mean()\n",
    "            \n",
    "        out += [aggregate]\n",
    "        indexes += [d_1]\n",
    "        \n",
    "    out = pd.Series(out, index = indexes).fillna(0)\n",
    "    out = out.reset_index().rename(columns = {\"index\": \"Date\",\n",
    "                                              0: target_col})\n",
    "    return out"
   ]
  },
  {
   "cell_type": "markdown",
   "id": "4809479a",
   "metadata": {},
   "source": [
    "### Daily cases"
   ]
  },
  {
   "cell_type": "code",
   "execution_count": 5,
   "id": "6fcc36fd",
   "metadata": {
    "ExecuteTime": {
     "end_time": "2023-01-07T23:29:27.341639Z",
     "start_time": "2023-01-07T23:29:26.970304Z"
    }
   },
   "outputs": [],
   "source": [
    "df_cases = pd.read_csv(\"WHO-COVID-19-global-data.csv\")\n",
    "df_cases[\"Date_reported\"] = pd.to_datetime(df_cases[\"Date_reported\"], format = \"%Y/%m/%d\")\n",
    "# Keep only G20+Europe\n",
    "df_cases = df_cases[df_cases[\"Country\"].isin(G20_and_EU)]\n",
    "\n",
    "# Set time interval according to the stocks data\n",
    "df_cases = df_cases[(df_cases[\"Date_reported\"] <= end_date) &\n",
    "                    (df_cases[\"Date_reported\"] >= start_date)]"
   ]
  },
  {
   "cell_type": "code",
   "execution_count": 6,
   "id": "dd836f93",
   "metadata": {
    "ExecuteTime": {
     "end_time": "2023-01-07T23:29:27.608758Z",
     "start_time": "2023-01-07T23:29:27.343863Z"
    }
   },
   "outputs": [],
   "source": [
    "# Aggregate by week\n",
    "df_cases = week_aggregator(data = df_cases, date_col = \"Date_reported\",\n",
    "                           target_col = \"New_cases\", aggfunc = \"sum\")"
   ]
  },
  {
   "cell_type": "code",
   "execution_count": 7,
   "id": "e9abcbe9",
   "metadata": {
    "ExecuteTime": {
     "end_time": "2023-01-07T23:29:28.554943Z",
     "start_time": "2023-01-07T23:29:27.610321Z"
    }
   },
   "outputs": [
    {
     "data": {
      "image/png": "[encoded data removed]",
      "text/plain": [
       "<Figure size 432x288 with 1 Axes>"
      ]
     },
     "metadata": {
      "needs_background": "light"
     },
     "output_type": "display_data"
    }
   ],
   "source": [
    "plt.plot(df_cases[\"Date\"], df_cases[\"New_cases\"]);"
   ]
  },
  {
   "cell_type": "markdown",
   "id": "065d4542",
   "metadata": {},
   "source": [
    "### Restriction index"
   ]
  },
  {
   "cell_type": "code",
   "execution_count": 8,
   "id": "2e8a386c",
   "metadata": {
    "ExecuteTime": {
     "end_time": "2023-01-07T23:29:30.292768Z",
     "start_time": "2023-01-07T23:29:28.557943Z"
    },
    "scrolled": false
   },
   "outputs": [],
   "source": [
    "oxf_restr = pd.read_csv(\"OxCGRT_nat_latest.csv\")\n",
    "\n",
    "oxf_restr = oxf_restr.drop([\"Jurisdiction\", \"RegionName\", \"RegionCode\", \"M1_Wildcard\"] +\n",
    "                           [c for c in oxf_restr.columns\n",
    "                            if c[0] == \"E\" and c[1] != \"c\"] +\\\n",
    "                           [c for c in oxf_restr.columns if c[0] == \"V\"], axis = 1)\n",
    "\n",
    "oxf_restr = oxf_restr[oxf_restr[\"CountryName\"].isin(G20_and_EU)]\n",
    "oxf_restr[\"Date\"] = oxf_restr[\"Date\"].apply(lambda v:\n",
    "                                            \"/\".join([str(v)[:4], str(v)[4:6],\n",
    "                                                      str(v)[6:]]))\n",
    "oxf_restr[\"Date\"] = pd.to_datetime(oxf_restr[\"Date\"], format = \"%Y/%m/%d\")\n",
    "\n",
    "# Set time interval according to the stocks data\n",
    "oxf_restr = oxf_restr[(oxf_restr[\"Date\"] <= end_date) &\n",
    "                      (oxf_restr[\"Date\"] >= start_date)]"
   ]
  },
  {
   "cell_type": "code",
   "execution_count": 9,
   "id": "49077527",
   "metadata": {
    "ExecuteTime": {
     "end_time": "2023-01-07T23:29:30.602739Z",
     "start_time": "2023-01-07T23:29:30.295371Z"
    }
   },
   "outputs": [],
   "source": [
    "# Aggregate by week\n",
    "oxf_restr = week_aggregator(data = oxf_restr, date_col = \"Date\", aggfunc = \"mean\",\n",
    "                            target_col = \"StringencyIndex_Average_ForDisplay\")"
   ]
  },
  {
   "cell_type": "code",
   "execution_count": 10,
   "id": "6a8b7de7",
   "metadata": {
    "ExecuteTime": {
     "end_time": "2023-01-07T23:29:30.837090Z",
     "start_time": "2023-01-07T23:29:30.606729Z"
    }
   },
   "outputs": [
    {
     "data": {
      "image/png": "[encoded data removed]",
      "text/plain": [
       "<Figure size 432x288 with 1 Axes>"
      ]
     },
     "metadata": {
      "needs_background": "light"
     },
     "output_type": "display_data"
    }
   ],
   "source": [
    "plt.plot(oxf_restr[\"Date\"], oxf_restr[\"StringencyIndex_Average_ForDisplay\"]);"
   ]
  },
  {
   "cell_type": "code",
   "execution_count": 11,
   "id": "d600893d",
   "metadata": {
    "ExecuteTime": {
     "end_time": "2023-01-07T23:29:30.867443Z",
     "start_time": "2023-01-07T23:29:30.839091Z"
    }
   },
   "outputs": [],
   "source": [
    "# Put both together\n",
    "df = df_cases.merge(oxf_restr, on = \"Date\", how = \"inner\")\n",
    "df.to_csv(\"Contagi_and_restrictions.csv\", index = False)"
   ]
  },
  {
   "cell_type": "markdown",
   "id": "3c609433",
   "metadata": {},
   "source": [
    "---\n",
    "---\n",
    "---"
   ]
  }
 ],
 "metadata": {
  "kernelspec": {
   "display_name": "Python 3 (ipykernel)",
   "language": "python",
   "name": "python3"
  },
  "language_info": {
   "codemirror_mode": {
    "name": "ipython",
    "version": 3
   },
   "file_extension": ".py",
   "mimetype": "text/x-python",
   "name": "python",
   "nbconvert_exporter": "python",
   "pygments_lexer": "ipython3",
   "version": "3.9.12"
  }
 },
 "nbformat": 4,
 "nbformat_minor": 5
}
